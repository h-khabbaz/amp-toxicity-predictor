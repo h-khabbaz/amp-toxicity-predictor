{
 "cells": [
  {
   "cell_type": "code",
   "execution_count": 1,
   "metadata": {},
   "outputs": [],
   "source": [
    "#Put AMP Sequences here in the list\n",
    "b=[\"GFVDFLKKVAGTIAN\",\"FLGGLIKIAMICAVTKKC\",\"AGCSGVAHTRFGSSACNPFGWK\",\"KKGLAKWAGLKLAGLA\"]"
   ]
  },
  {
   "cell_type": "code",
   "execution_count": 3,
   "metadata": {},
   "outputs": [
    {
     "name": "stdout",
     "output_type": "stream",
     "text": [
      "Random Forest Classifier\n",
      "1 ['non-toxic']\n",
      "2 ['toxic']\n",
      "3 ['non-toxic']\n",
      "4 ['non-toxic']\n",
      "-------------------------\n",
      "Support Vector Classifier\n",
      "1 ['non-toxic']\n",
      "2 ['toxic']\n",
      "3 ['non-toxic']\n",
      "4 ['non-toxic']\n"
     ]
    }
   ],
   "source": [
    "#Just run it\n",
    "%run -i toxicityCalculator \n"
   ]
  },
  {
   "cell_type": "code",
   "execution_count": null,
   "metadata": {},
   "outputs": [],
   "source": []
  }
 ],
 "metadata": {
  "kernelspec": {
   "display_name": "Python 3",
   "language": "python",
   "name": "python3"
  },
  "language_info": {
   "codemirror_mode": {
    "name": "ipython",
    "version": 3
   },
   "file_extension": ".py",
   "mimetype": "text/x-python",
   "name": "python",
   "nbconvert_exporter": "python",
   "pygments_lexer": "ipython3",
   "version": "3.7.6"
  }
 },
 "nbformat": 4,
 "nbformat_minor": 2
}
